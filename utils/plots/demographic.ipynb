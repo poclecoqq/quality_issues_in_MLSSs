{
 "cells": [
  {
   "cell_type": "code",
   "execution_count": null,
   "metadata": {},
   "outputs": [],
   "source": [
    "import pandas as pd\n",
    "import seaborn as sns\n",
    "import matplotlib.pyplot as plt\n",
    "from collections import Counter, OrderedDict\n",
    "from pywaffle import Waffle\n",
    "import pathlib\n"
   ]
  },
  {
   "cell_type": "code",
   "execution_count": null,
   "metadata": {},
   "outputs": [],
   "source": [
    "# Read and filter out irrelevant entries\n",
    "df = pd.read_csv('./input/input.csv')\n",
    "df = df[(df['State'] != 'Refused') & (df['State'] != 'Reminder sent') & (df['State'] != 'excluded') ]\n",
    "\n",
    "# Create output directory if does not exists\n",
    "out_dir = pathlib.Path('./output')\n",
    "out_dir.mkdir(parents=True, exist_ok=True) \n",
    "\n",
    "# set a grey background (use sns.set_theme() if seaborn version 0.11.0 or above) \n",
    "sns.set(style=\"darkgrid\")"
   ]
  },
  {
   "attachments": {},
   "cell_type": "markdown",
   "metadata": {},
   "source": [
    "## Histograms"
   ]
  },
  {
   "cell_type": "code",
   "execution_count": null,
   "metadata": {},
   "outputs": [],
   "source": [
    "def generate_company_size_plot(df):\n",
    "    # Uniformizing values\n",
    "    df['Company size'][df['Company size'] == '51-100'] = '51-500'\n",
    "    df['Company size'][df['Company size'] == '100-500'] = '51-500'\n",
    "    df['Company size'][df['Company size'] == '5000-10000'] = '500-10000'\n",
    "    # Sorting bins\n",
    "    df['Company size'] = pd.Categorical(df['Company size'], ['1-10','11-50','51-500','500-10000','10001+'])\n",
    "\n",
    "\n",
    "    # Create the plot\n",
    "    ax = sns.histplot(data=df, x=\"Company size\")\n",
    "    # ax.set_title('')\n",
    "    ax.set_ylabel('# interviewees')\n",
    "\n",
    "    plt.savefig(out_dir/'company_size.pdf', bbox_inches='tight')\n",
    "    plt.show()\n",
    "\n",
    "\n",
    "generate_company_size_plot(df)"
   ]
  },
  {
   "cell_type": "code",
   "execution_count": null,
   "metadata": {},
   "outputs": [],
   "source": [
    "def generate_experience_g_plot(df):\n",
    "    # Sorting bins\n",
    "    df['Experience (general)'] = pd.Categorical(df['Experience (general)'], ['0-2', '3-5', '6-9', '10+'])\n",
    "\n",
    "\n",
    "    # Create the plot\n",
    "    ax = sns.histplot(data=df, x=\"Experience (general)\")\n",
    "    # ax.set_title('')\n",
    "    ax.set_ylabel('# interviewees')\n",
    "    ax.set_ylim(0,12)\n",
    "\n",
    "    plt.savefig(out_dir/'experience_general.pdf', bbox_inches='tight')\n",
    "    plt.show()\n",
    "\n",
    "generate_experience_g_plot(df)"
   ]
  },
  {
   "cell_type": "code",
   "execution_count": null,
   "metadata": {},
   "outputs": [],
   "source": [
    "def generate_experience_ml_plot(df):\n",
    "    # Sorting bins\n",
    "    df['Experience (ML)'] = pd.Categorical(df['Experience (ML)'], ['0-2', '3-5', '6-9', '10+'])\n",
    "\n",
    "\n",
    "    # Create the plot\n",
    "    ax = sns.histplot(data=df, x=\"Experience (ML)\")\n",
    "    # ax.set_title('')\n",
    "    ax.set_ylabel('# interviewees')\n",
    "    ax.set_ylim(0,15)\n",
    "\n",
    "\n",
    "    plt.savefig(out_dir/'experience_ml.pdf', bbox_inches='tight')\n",
    "    plt.show()\n",
    "\n",
    "generate_experience_ml_plot(df)"
   ]
  },
  {
   "attachments": {},
   "cell_type": "markdown",
   "metadata": {},
   "source": [
    "## Pie charts"
   ]
  },
  {
   "cell_type": "code",
   "execution_count": null,
   "metadata": {},
   "outputs": [],
   "source": [
    "def generate_waffle_plot(df, col_name, file_name=None):\n",
    "    cnt = OrderedDict(Counter(df[col_name].dropna().tolist()).most_common()) \n",
    "    tot = sum(cnt.values())\n",
    "    val = [ 100*(x/tot) for x in cnt.values()]\n",
    "    labels = [ f'{x} ({\"{:.0f}\".format(val[i])}%)' for i,x in enumerate(cnt.keys())]\n",
    "    \n",
    "    fig = plt.figure(\n",
    "        FigureClass=Waffle, \n",
    "        rows=4, \n",
    "        values=cnt, \n",
    "        labels=labels,\n",
    "        colors=sns.color_palette('colorblind')[:len(cnt)],\n",
    "        legend={'loc': 'upper left', 'bbox_to_anchor': (1, 0.9), 'fontsize':10},\n",
    "        icons='user', icon_size=21, \n",
    "        icon_legend=True\n",
    "    )\n",
    "\n",
    "    if file_name:\n",
    "        plt.savefig(out_dir/f'{file_name}.pdf', bbox_inches='tight')\n",
    "    "
   ]
  },
  {
   "attachments": {},
   "cell_type": "markdown",
   "metadata": {},
   "source": [
    "### Sector"
   ]
  },
  {
   "cell_type": "code",
   "execution_count": null,
   "metadata": {},
   "outputs": [],
   "source": [
    "\n",
    "def generate_sector_pie_plot(df):\n",
    "    cnt = OrderedDict(Counter(df['Sector'].dropna().tolist()).most_common())\n",
    "    keys, values = list(cnt.keys()), list(cnt.values())\n",
    "    fig1, ax1 = plt.subplots()\n",
    "    plt.pie(values, labels=keys, colors = sns.color_palette(), explode = [.05 for _ in range(len(values))], autopct='%1.1f%%', startangle=90, pctdistance=0.85 )\n",
    "    #draw circle\n",
    "    centre_circle = plt.Circle((0,0),0.70,fc='white')\n",
    "    fig = plt.gcf()\n",
    "    fig.gca().add_artist(centre_circle)\n",
    "    # Equal aspect ratio ensures that pie is drawn as a circle\n",
    "    ax1.axis('equal')  \n",
    "    plt.tight_layout()\n",
    "    plt.show()\n",
    "\n",
    "generate_sector_pie_plot(df)"
   ]
  },
  {
   "cell_type": "code",
   "execution_count": null,
   "metadata": {},
   "outputs": [],
   "source": [
    "def generate_sector_waffle_plot(df):\n",
    "    generate_waffle_plot(df, 'Sector', file_name='sector_waffle')\n",
    "    \n",
    "generate_sector_waffle_plot(df)"
   ]
  },
  {
   "attachments": {},
   "cell_type": "markdown",
   "metadata": {},
   "source": [
    "### Where"
   ]
  },
  {
   "cell_type": "code",
   "execution_count": null,
   "metadata": {},
   "outputs": [],
   "source": [
    "def generate_sector_waffle_plot(df):\n",
    "    generate_waffle_plot(df, 'Where', file_name='world_region')\n",
    "    \n",
    "generate_sector_waffle_plot(df)"
   ]
  },
  {
   "attachments": {},
   "cell_type": "markdown",
   "metadata": {},
   "source": [
    "### Job role"
   ]
  },
  {
   "cell_type": "code",
   "execution_count": null,
   "metadata": {},
   "outputs": [],
   "source": [
    "def generate_sector_waffle_plot(df):\n",
    "    generate_waffle_plot(df, 'Job title', file_name='job_role')\n",
    "    \n",
    "generate_sector_waffle_plot(df)"
   ]
  },
  {
   "cell_type": "code",
   "execution_count": null,
   "metadata": {},
   "outputs": [],
   "source": []
  }
 ],
 "metadata": {
  "kernelspec": {
   "display_name": "base",
   "language": "python",
   "name": "python3"
  },
  "language_info": {
   "codemirror_mode": {
    "name": "ipython",
    "version": 3
   },
   "file_extension": ".py",
   "mimetype": "text/x-python",
   "name": "python",
   "nbconvert_exporter": "python",
   "pygments_lexer": "ipython3",
   "version": "3.9.13"
  },
  "orig_nbformat": 4
 },
 "nbformat": 4,
 "nbformat_minor": 2
}

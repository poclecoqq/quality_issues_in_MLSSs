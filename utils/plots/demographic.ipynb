{
 "cells": [
  {
   "cell_type": "code",
   "execution_count": null,
   "metadata": {},
   "outputs": [],
   "source": [
    "import pandas as pd\n",
    "import seaborn as sns\n",
    "import matplotlib.pyplot as plt"
   ]
  },
  {
   "cell_type": "code",
   "execution_count": null,
   "metadata": {},
   "outputs": [],
   "source": [
    "# Read and filter out irrelevant entries\n",
    "df = pd.read_csv('./input/input.csv')\n",
    "df = df[(df['State'] != 'Refused') & (df['State'] != 'Reminder sent') & (df['State'] != 'excluded') ]\n",
    "\n",
    "# set a grey background (use sns.set_theme() if seaborn version 0.11.0 or above) \n",
    "sns.set(style=\"darkgrid\")"
   ]
  },
  {
   "attachments": {},
   "cell_type": "markdown",
   "metadata": {},
   "source": [
    "### Histograms"
   ]
  },
  {
   "cell_type": "code",
   "execution_count": null,
   "metadata": {},
   "outputs": [],
   "source": [
    "# Uniformizing values\n",
    "df['Company size'][df['Company size'] == '51-100'] = '51-500'\n",
    "df['Company size'][df['Company size'] == '100-500'] = '51-500'\n",
    "df['Company size'][df['Company size'] == '5000-10000'] = '500-10000'\n",
    "# Sorting bins\n",
    "df['Company size'] = pd.Categorical(df['Company size'], ['1-10','11-50','51-500','500-10000','10001+'])\n",
    "\n",
    "\n",
    "# Create the plot\n",
    "ax = sns.histplot(data=df, x=\"Company size\")\n",
    "# ax.set_title('')\n",
    "ax.set_ylabel('# interviewees')\n",
    "\n",
    "\n",
    "plt.show()"
   ]
  },
  {
   "cell_type": "code",
   "execution_count": null,
   "metadata": {},
   "outputs": [],
   "source": [
    "# Sorting bins\n",
    "df['Experience (general)'] = pd.Categorical(df['Experience (general)'], ['0-2', '3-5', '6-9', '10+'])\n",
    "\n",
    "\n",
    "# Create the plot\n",
    "ax = sns.histplot(data=df, x=\"Experience (general)\")\n",
    "# ax.set_title('')\n",
    "ax.set_ylabel('# interviewees')\n",
    "ax.set_ylim(0,12)\n",
    "\n",
    "\n",
    "plt.show()"
   ]
  },
  {
   "cell_type": "code",
   "execution_count": null,
   "metadata": {},
   "outputs": [],
   "source": [
    "# Sorting bins\n",
    "df['Experience (ML)'] = pd.Categorical(df['Experience (ML)'], ['0-2', '3-5', '6-9', '10+'])\n",
    "\n",
    "\n",
    "# Create the plot\n",
    "ax = sns.histplot(data=df, x=\"Experience (ML)\")\n",
    "# ax.set_title('')\n",
    "ax.set_ylabel('# interviewees')\n",
    "ax.set_ylim(0,15)\n",
    "\n",
    "\n",
    "\n",
    "plt.show()"
   ]
  },
  {
   "attachments": {},
   "cell_type": "markdown",
   "metadata": {},
   "source": [
    "### Pie charts"
   ]
  },
  {
   "cell_type": "code",
   "execution_count": null,
   "metadata": {},
   "outputs": [],
   "source": []
  }
 ],
 "metadata": {
  "kernelspec": {
   "display_name": "base",
   "language": "python",
   "name": "python3"
  },
  "language_info": {
   "codemirror_mode": {
    "name": "ipython",
    "version": 3
   },
   "file_extension": ".py",
   "mimetype": "text/x-python",
   "name": "python",
   "nbconvert_exporter": "python",
   "pygments_lexer": "ipython3",
   "version": "3.9.13"
  },
  "orig_nbformat": 4
 },
 "nbformat": 4,
 "nbformat_minor": 2
}

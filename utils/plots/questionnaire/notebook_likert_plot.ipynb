{
 "cells": [
  {
   "cell_type": "code",
   "execution_count": null,
   "metadata": {},
   "outputs": [],
   "source": [
    "import pandas as pd\n",
    "import matplotlib.pyplot as plt\n",
    "import seaborn as sns\n",
    "import pathlib\n",
    "from pywaffle import Waffle\n",
    "from collections import OrderedDict, Counter\n",
    "import plot_likert\n",
    "import numpy as np"
   ]
  },
  {
   "cell_type": "code",
   "execution_count": null,
   "metadata": {},
   "outputs": [],
   "source": [
    "# Create output directory if does not exists\n",
    "out_dir = pathlib.Path(\"./output\")\n",
    "out_dir.mkdir(parents=True, exist_ok=True)"
   ]
  },
  {
   "attachments": {},
   "cell_type": "markdown",
   "metadata": {},
   "source": [
    "# Load data"
   ]
  },
  {
   "cell_type": "code",
   "execution_count": null,
   "metadata": {},
   "outputs": [],
   "source": [
    "df_g = pd.read_excel(\"./input/g.xlsx\").drop([\"Timestamp\"], axis=\"columns\")\n",
    "df_m = pd.read_excel(\"./input/m.xlsx\").drop(\n",
    "    [\"Id\", \"Heure de début\", \"Heure de fin\", \"Adresse de messagerie\", \"Nom\"],\n",
    "    axis=\"columns\",\n",
    ")"
   ]
  },
  {
   "cell_type": "code",
   "execution_count": null,
   "metadata": {},
   "outputs": [],
   "source": [
    "import re\n",
    "\n",
    "mapper_d = {\n",
    "    \"Issue:  Evaluating the quality of a model offline\": \"I1.1\",\n",
    "    \"Issue: Defining a good business metric for evaluating an MLSS is difficult\": \"I1.2\",\n",
    "    \"Issue: Trying to simulate the environment\": \"I1.3\",\n",
    "    \"Issue: Evaluating the quality of a dataset\": \"I1.4\",\n",
    "    \"Issue: Explaining a model's predictions to people without ML knowledge\": \"I2.1\",\n",
    "    \"Issue: The explanation techniques sometimes\": \"I2.2\",\n",
    "    \"Issue: Reproducing bugs in an MLSS\": \"I3.1\",\n",
    "    \"Issue: Debugging data streaming systems\": \"I3.2\",\n",
    "    \"Issue: Debugging an MLSS is time-consuming\": \"I3.3\",\n",
    "    \"Issue: Training models consume a lot of resources\": \"I4.1\",\n",
    "    \"Issue: The queries sent to an MLSS are not answered\": \"I4.2\",\n",
    "    \"Issue: At inference time, ML models consume too much memory\": \"I4.3\",\n",
    "    \"Issue: Maintaining an MLSS is difficult because\": \"I5.1\",\n",
    "    \"Issue: Maintaining a model is difficult\": \"I5.2\",\n",
    "    \"Issue: Managing the dependencies\": \"I5.3\",\n",
    "    \"Issue: Having a reliable model is difficult because of concept or data drift\": \"I6.1\",\n",
    "    \"Issue: Having a reliable model is difficult because of external data providers\": \"I6.2\",\n",
    "    \"Issue: Having a reliable MLSS is difficult because of the data pipelines which are brittle and have technical\": \"I6.3\",\n",
    "    \"What is your job role?\": \"D:job_role\",\n",
    "    \"How many years of professional\": \"D:experience_g\",\n",
    "    \"How many years of experience\": \"D:experience_ml\",\n",
    "    \"If you are interested\": \"D:email\",\n",
    "}\n",
    "\n",
    "\n",
    "def mapper_f(col_name):\n",
    "    col_name = col_name.replace(\"\\xa0\", \" \")\n",
    "    # Match comments questions\n",
    "    if not re.match(\"^Do you have any\", col_name) is None:\n",
    "        return \"C:\" + col_name.split(\" \")[-1][:-1]\n",
    "\n",
    "    # Match RQs + demographic questions\n",
    "    for k, v in mapper_d.items():\n",
    "        if not re.match(f\"^\\s?{k}\", col_name) is None:\n",
    "            return v\n",
    "\n",
    "    return col_name\n",
    "\n",
    "\n",
    "df_g = df_g.rename(mapper_f, axis=\"columns\")\n",
    "df_m = df_m.rename(mapper_f, axis=\"columns\")"
   ]
  },
  {
   "cell_type": "code",
   "execution_count": null,
   "metadata": {},
   "outputs": [],
   "source": [
    "col_rq = [col for col in df_m if col.startswith(\"RQ\")]\n",
    "\n",
    "df_m = df_m.replace(\n",
    "    {\"never\": 1, \"rarely\": 2, \"sometimes\": 3, \"often\": 4, \"frequently\": 5}\n",
    ")"
   ]
  },
  {
   "cell_type": "code",
   "execution_count": null,
   "metadata": {},
   "outputs": [],
   "source": [
    "df = pd.concat([df_g, df_m])\n",
    "df[\"D:job_role\"] = df[\"D:job_role\"].fillna(value=\"Unknown\")"
   ]
  },
  {
   "cell_type": "code",
   "execution_count": null,
   "metadata": {},
   "outputs": [],
   "source": [
    "df[\"D:job_role\"] = df[\"D:job_role\"].replace(\n",
    "    {\"AI Engineer\": \"ML Engineer\", \"Manager (e.g. Director)\": \"Manager\"}\n",
    ")"
   ]
  },
  {
   "cell_type": "code",
   "execution_count": null,
   "metadata": {},
   "outputs": [],
   "source": [
    "df"
   ]
  },
  {
   "attachments": {},
   "cell_type": "markdown",
   "metadata": {},
   "source": [
    "# Likert plot"
   ]
  },
  {
   "cell_type": "code",
   "execution_count": null,
   "metadata": {},
   "outputs": [],
   "source": [
    "def make_likert_plot(df, sorted=False):\n",
    "    def remove_label(xlabels, xvalues, label_value):\n",
    "        xlabels_n, xvalues_n = [], []\n",
    "        for xlabel, xvalue in zip(xlabels, xvalues):\n",
    "            if xlabel.get_text() != label_value:\n",
    "                xlabels_n.append(xlabel)\n",
    "                xvalues_n.append(xvalue)\n",
    "        return xlabels_n, xvalues_n\n",
    "\n",
    "    df = df.copy()\n",
    "    df = df.astype(\"Int64\")\n",
    "    if sorted:\n",
    "        df = df[df.mean(axis=\"rows\").sort_values(ascending=False).index]\n",
    "    df = df.astype(\"str\")\n",
    "    df = df.replace(\"<NA>\", np.NaN)\n",
    "\n",
    "    # Change background\n",
    "    plt.rcParams[\"axes.edgecolor\"] = \"lightgray\"\n",
    "\n",
    "    axes = plot_likert.plot_likert(\n",
    "        df, plot_likert.scales.raw5, plot_percentage=True, linestyle=\"-\"\n",
    "    )\n",
    "    axes.set_ylabel(\"Quality Issue Id\")\n",
    "    # Change limits\n",
    "    xlim = axes.get_xlim()\n",
    "    axes.set_xlim((-22, xlim[-1]))\n",
    "    xvalues = axes.get_xticks()\n",
    "    xlabels = axes.get_xticklabels()\n",
    "    xlabels, xvalues = remove_label(xlabels, xvalues, label_value=\"100%\")\n",
    "    xvalues.append(0)\n",
    "    xlabels.append(\"75%\")\n",
    "    axes.set_xticks(xvalues)\n",
    "    axes.set_xticklabels(xlabels)\n",
    "    axes.grid(axis=\"both\", color=\"lightgray\", linestyle=\"-\")\n",
    "    axes.set_axisbelow(True)\n",
    "    axes.tick_params(color=\"white\")\n",
    "\n",
    "    axes.get_figure().savefig(\"./output/likert.pdf\")\n",
    "\n",
    "\n",
    "col_rq = [col for col in df_g if col.startswith(\"I\")]\n",
    "make_likert_plot(df[col_rq], sorted=False)"
   ]
  },
  {
   "cell_type": "code",
   "execution_count": null,
   "metadata": {},
   "outputs": [],
   "source": []
  }
 ],
 "metadata": {
  "kernelspec": {
   "display_name": "base",
   "language": "python",
   "name": "python3"
  },
  "language_info": {
   "codemirror_mode": {
    "name": "ipython",
    "version": 3
   },
   "file_extension": ".py",
   "mimetype": "text/x-python",
   "name": "python",
   "nbconvert_exporter": "python",
   "pygments_lexer": "ipython3",
   "version": "3.9.13"
  },
  "orig_nbformat": 4
 },
 "nbformat": 4,
 "nbformat_minor": 2
}

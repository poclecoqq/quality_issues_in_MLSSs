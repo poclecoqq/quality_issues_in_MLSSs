{
 "cells": [
  {
   "cell_type": "code",
   "execution_count": null,
   "metadata": {},
   "outputs": [],
   "source": [
    "import pandas as pd\n",
    "import matplotlib.pyplot as plt\n",
    "import seaborn as sns\n",
    "import pathlib\n",
    "from pywaffle import Waffle\n",
    "from collections import OrderedDict, Counter\n",
    "import plot_likert\n",
    "import numpy as np\n"
   ]
  },
  {
   "cell_type": "code",
   "execution_count": null,
   "metadata": {},
   "outputs": [],
   "source": [
    "# Create output directory if does not exists\n",
    "out_dir = pathlib.Path('./output')\n",
    "out_dir.mkdir(parents=True, exist_ok=True) \n",
    "\n",
    "# set seaborn style \n",
    "sns.set(style=\"whitegrid\")"
   ]
  },
  {
   "attachments": {},
   "cell_type": "markdown",
   "metadata": {},
   "source": [
    "# Load data"
   ]
  },
  {
   "cell_type": "code",
   "execution_count": null,
   "metadata": {},
   "outputs": [],
   "source": [
    "df_g = pd.read_excel('./input/g.xlsx').drop(['Timestamp'], axis='columns')\n",
    "df_m = pd.read_excel('./input/m.xlsx').drop(['Id', 'Heure de début', 'Heure de fin', 'Adresse de messagerie', 'Nom'], axis='columns')"
   ]
  },
  {
   "cell_type": "code",
   "execution_count": null,
   "metadata": {},
   "outputs": [],
   "source": [
    "import re \n",
    "\n",
    "mapper_d = {\n",
    "    \"Issue:  Evaluating the quality of a model offline\": 'RQ1.1',\n",
    "    'Issue: Defining a good business metric for evaluating an MLSS is difficult':'RQ1.2',\n",
    "    'Issue: Trying to simulate the environment':'RQ1.3',\n",
    "    'Issue: Evaluating the quality of a dataset':'RQ1.4',\n",
    "    \"Issue: Explaining a model's predictions to people without ML knowledge\":'RQ2.1',\n",
    "    'Issue: The explanation techniques sometimes':'RQ2.2',\n",
    "    'Issue: Reproducing bugs in an MLSS':'RQ3.1',\n",
    "    'Issue: Debugging data streaming systems':'RQ3.2',\n",
    "    'Issue: Debugging an MLSS is time-consuming':'RQ3.3',\n",
    "    'Issue: Training models consume a lot of resources':'RQ4.1',\n",
    "    'Issue: The queries sent to an MLSS are not answered':'RQ4.2',\n",
    "    'Issue: At inference time, ML models consume too much memory':'RQ4.3',\n",
    "    \"Issue: Maintaining an MLSS is difficult because\":\"RQ5.1\",\n",
    "    \"Issue: Maintaining a model is difficult\":\"RQ5.2\",\n",
    "    \"Issue: Managing the dependencies\":\"RQ5.3\",\n",
    "    \"Issue: Having a reliable model is difficult because of concept or data drift\":\"RQ6.1\",\n",
    "    \"Issue: Having a reliable model is difficult because of external data providers\":\"RQ6.2\",\n",
    "    \"Issue: Having a reliable MLSS is difficult because of the data pipelines which are brittle and have technical\":\"RQ6.3\",\n",
    "    'What is your job role?':'D:job_role',\n",
    "    \"How many years of professional\":\"D:experience_g\",\n",
    "    \"How many years of experience\":\"D:experience_ml\",\n",
    "    \"If you are interested\":\"D:email\",\n",
    "}\n",
    "\n",
    "def mapper_f(col_name):\n",
    "    col_name = col_name.replace(u'\\xa0', u' ')\n",
    "    # Match comments questions\n",
    "    if not re.match(\"^Do you have any\", col_name) is None:\n",
    "        return 'C:' + col_name.split(' ')[-1][:-1]\n",
    "    \n",
    "    # Match RQs + demographic questions\n",
    "    for k,v in mapper_d.items():\n",
    "        if not re.match(f'^\\s?{k}', col_name) is None:\n",
    "            return v\n",
    "        \n",
    "    return col_name\n",
    "\n",
    "df_g = df_g.rename(mapper_f, axis='columns')\n",
    "df_m = df_m.rename(mapper_f, axis='columns')\n"
   ]
  },
  {
   "cell_type": "code",
   "execution_count": null,
   "metadata": {},
   "outputs": [],
   "source": [
    "col_rq = [col for col in df_m if col.startswith('RQ')]\n",
    "\n",
    "df_m = df_m.replace({\"never\":1, 'rarely':2, 'sometimes':3, 'often':4, 'frequently':5})"
   ]
  },
  {
   "cell_type": "code",
   "execution_count": null,
   "metadata": {},
   "outputs": [],
   "source": [
    "df = pd.concat([df_g, df_m])\n",
    "df['D:job_role'] = df['D:job_role'].fillna(value='Unknown')"
   ]
  },
  {
   "cell_type": "code",
   "execution_count": null,
   "metadata": {},
   "outputs": [],
   "source": [
    "df"
   ]
  },
  {
   "attachments": {},
   "cell_type": "markdown",
   "metadata": {},
   "source": [
    "# Demographics"
   ]
  },
  {
   "attachments": {},
   "cell_type": "markdown",
   "metadata": {},
   "source": [
    "### Experience (ML + general)"
   ]
  },
  {
   "cell_type": "code",
   "execution_count": null,
   "metadata": {},
   "outputs": [],
   "source": [
    "def generate_experience_total_plot(df):\n",
    "\n",
    "    # Changing data's format for sns\n",
    "    df = df[['D:experience_g', 'D:experience_ml']]\n",
    "    df = df.rename(columns={\"D:experience_ml\": \"with ML\", \"D:experience_g\": \"in general\"})\n",
    "    df = df.melt(\n",
    "        var_name=\"Professional experience\"\n",
    "    )\n",
    "    \n",
    "    # Create the plot\n",
    "    ax = sns.countplot(\n",
    "        data=df, \n",
    "        x='value', \n",
    "        hue='Professional experience', \n",
    "        order=['0-2', '3-5', '6-9', '10+'], \n",
    "        palette=sns.color_palette('colorblind')[:2]\n",
    "    )\n",
    "    # ax.set_title('')\n",
    "    ax.set_xlabel('years of experience')\n",
    "    ax.set_ylabel('# interviewees')\n",
    "    ax.set_ylim(0,15)\n",
    "\n",
    "\n",
    "    plt.savefig(out_dir/'experience_total.pdf', bbox_inches='tight')\n",
    "    plt.show()\n",
    "\n",
    "generate_experience_total_plot(df)"
   ]
  },
  {
   "cell_type": "code",
   "execution_count": null,
   "metadata": {},
   "outputs": [],
   "source": [
    "def put_unkonwn_at_end(d):\n",
    "    tmp_k = []\n",
    "    for k in d.keys():\n",
    "        if k != 'Unknown':\n",
    "            tmp_k.append(k)\n",
    "    tmp_k.append('Unknown')\n",
    "\n",
    "    res = OrderedDict()\n",
    "    for k in tmp_k:\n",
    "        res[k] = d[k]\n",
    "    return res\n",
    "\n",
    "\n",
    "\n",
    "\n",
    "def generate_waffle_plot(df, col_name, file_name=None):\n",
    "    cnt = OrderedDict(Counter(df[col_name].dropna().tolist()).most_common()) \n",
    "    cnt = put_unkonwn_at_end(cnt)\n",
    "    tot = sum(cnt.values())\n",
    "    val = [ 100*(x/tot) for x in cnt.values()]\n",
    "    labels = [ f'{x} ({\"{:.0f}\".format(val[i])}%)' for i,x in enumerate(cnt.keys())]\n",
    "    \n",
    "    fig = plt.figure(\n",
    "        FigureClass=Waffle, \n",
    "        columns=5, \n",
    "        values=cnt, \n",
    "        labels=labels,\n",
    "        colors=sns.color_palette('colorblind')[:len(cnt)],\n",
    "        legend={'loc': 'lower center', 'bbox_to_anchor': (0.5, -0.4), 'fontsize':11, 'ncol': 2,},\n",
    "        icons='user', font_size=40, \n",
    "        icon_legend=True,\n",
    "        block_arranging_style='snake'\n",
    "        # figsize=(6, 6),\n",
    "    )\n",
    "\n",
    "    if file_name:\n",
    "        plt.savefig(out_dir/f'{file_name}.pdf', bbox_inches='tight')\n",
    "\n",
    "\n",
    "def generate_job_role_waffle_plot(df):\n",
    "    generate_waffle_plot(df, 'D:job_role', file_name='job_role')\n",
    "    \n",
    "generate_job_role_waffle_plot(df)"
   ]
  },
  {
   "attachments": {},
   "cell_type": "markdown",
   "metadata": {},
   "source": [
    "# Likert plots"
   ]
  },
  {
   "cell_type": "code",
   "execution_count": null,
   "metadata": {},
   "outputs": [],
   "source": [
    "def make_likert_plot(df, sorted=False):\n",
    "    df = df.copy()\n",
    "    df = df.astype('Int64')\n",
    "    if sorted:\n",
    "        df = df[df.mean(axis='rows').sort_values(ascending=False).index]\n",
    "    df = df.astype('str')\n",
    "    df = df.replace('<NA>', np.NaN)\n",
    "    axes = plot_likert.plot_likert(df, plot_likert.scales.raw5, plot_percentage=True)\n",
    "    axes.get_figure().savefig('./output/likert.png')\n",
    "\n",
    "col_rq = [col for col in df_g if col.startswith('RQ')]\n",
    "make_likert_plot(df[col_rq], sorted=False)"
   ]
  },
  {
   "cell_type": "code",
   "execution_count": null,
   "metadata": {},
   "outputs": [],
   "source": [
    "df[col_rq].mean(axis='rows')"
   ]
  },
  {
   "cell_type": "code",
   "execution_count": null,
   "metadata": {},
   "outputs": [],
   "source": []
  }
 ],
 "metadata": {
  "kernelspec": {
   "display_name": "base",
   "language": "python",
   "name": "python3"
  },
  "language_info": {
   "codemirror_mode": {
    "name": "ipython",
    "version": 3
   },
   "file_extension": ".py",
   "mimetype": "text/x-python",
   "name": "python",
   "nbconvert_exporter": "python",
   "pygments_lexer": "ipython3",
   "version": "3.9.13"
  },
  "orig_nbformat": 4
 },
 "nbformat": 4,
 "nbformat_minor": 2
}

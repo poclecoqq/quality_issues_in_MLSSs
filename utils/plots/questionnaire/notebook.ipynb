{
 "cells": [
  {
   "cell_type": "code",
   "execution_count": null,
   "metadata": {},
   "outputs": [],
   "source": [
    "import pandas as pd\n",
    "import matplotlib.pyplot as plt\n",
    "import seaborn as sns\n",
    "import pathlib\n",
    "from pywaffle import Waffle\n",
    "from collections import OrderedDict, Counter\n",
    "import plot_likert\n",
    "import numpy as np"
   ]
  },
  {
   "cell_type": "code",
   "execution_count": null,
   "metadata": {},
   "outputs": [],
   "source": [
    "# Create output directory if does not exists\n",
    "out_dir = pathlib.Path(\"./output\")\n",
    "out_dir.mkdir(parents=True, exist_ok=True)\n",
    "\n",
    "# set seaborn style\n",
    "sns.set(style=\"whitegrid\")"
   ]
  },
  {
   "attachments": {},
   "cell_type": "markdown",
   "metadata": {},
   "source": [
    "# Load data"
   ]
  },
  {
   "cell_type": "code",
   "execution_count": null,
   "metadata": {},
   "outputs": [],
   "source": [
    "df_g = pd.read_excel(\"./input/g.xlsx\").drop([\"Timestamp\"], axis=\"columns\")\n",
    "df_m = pd.read_excel(\"./input/m.xlsx\").drop(\n",
    "    [\"Id\", \"Heure de début\", \"Heure de fin\", \"Adresse de messagerie\", \"Nom\"],\n",
    "    axis=\"columns\",\n",
    ")"
   ]
  },
  {
   "cell_type": "code",
   "execution_count": null,
   "metadata": {},
   "outputs": [],
   "source": [
    "import re\n",
    "\n",
    "mapper_d = {\n",
    "    \"Issue:  Evaluating the quality of a model offline\": \"I1.1\",\n",
    "    \"Issue: Defining a good business metric for evaluating an MLSS is difficult\": \"I1.2\",\n",
    "    \"Issue: Trying to simulate the environment\": \"I1.3\",\n",
    "    \"Issue: Evaluating the quality of a dataset\": \"I1.4\",\n",
    "    \"Issue: Explaining a model's predictions to people without ML knowledge\": \"I2.1\",\n",
    "    \"Issue: The explanation techniques sometimes\": \"I2.2\",\n",
    "    \"Issue: Reproducing bugs in an MLSS\": \"I3.1\",\n",
    "    \"Issue: Debugging data streaming systems\": \"I3.2\",\n",
    "    \"Issue: Debugging an MLSS is time-consuming\": \"I3.3\",\n",
    "    \"Issue: Training models consume a lot of resources\": \"I4.1\",\n",
    "    \"Issue: The queries sent to an MLSS are not answered\": \"I4.2\",\n",
    "    \"Issue: At inference time, ML models consume too much memory\": \"I4.3\",\n",
    "    \"Issue: Maintaining an MLSS is difficult because\": \"I5.1\",\n",
    "    \"Issue: Maintaining a model is difficult\": \"I5.2\",\n",
    "    \"Issue: Managing the dependencies\": \"I5.3\",\n",
    "    \"Issue: Having a reliable model is difficult because of concept or data drift\": \"I6.1\",\n",
    "    \"Issue: Having a reliable model is difficult because of external data providers\": \"I6.2\",\n",
    "    \"Issue: Having a reliable MLSS is difficult because of the data pipelines which are brittle and have technical\": \"I6.3\",\n",
    "    \"What is your job role?\": \"D:job_role\",\n",
    "    \"How many years of professional\": \"D:experience_g\",\n",
    "    \"How many years of experience\": \"D:experience_ml\",\n",
    "    \"If you are interested\": \"D:email\",\n",
    "}\n",
    "\n",
    "\n",
    "def mapper_f(col_name):\n",
    "    col_name = col_name.replace(\"\\xa0\", \" \")\n",
    "    # Match comments questions\n",
    "    if not re.match(\"^Do you have any\", col_name) is None:\n",
    "        return \"C:\" + col_name.split(\" \")[-1][:-1]\n",
    "\n",
    "    # Match RQs + demographic questions\n",
    "    for k, v in mapper_d.items():\n",
    "        if not re.match(f\"^\\s?{k}\", col_name) is None:\n",
    "            return v\n",
    "\n",
    "    return col_name\n",
    "\n",
    "\n",
    "df_g = df_g.rename(mapper_f, axis=\"columns\")\n",
    "df_m = df_m.rename(mapper_f, axis=\"columns\")"
   ]
  },
  {
   "cell_type": "code",
   "execution_count": null,
   "metadata": {},
   "outputs": [],
   "source": [
    "col_rq = [col for col in df_g if col.startswith(\"I\")]\n",
    "\n",
    "df_m = df_m.replace(\n",
    "    {\"never\": 1, \"rarely\": 2, \"sometimes\": 3, \"often\": 4, \"frequently\": 5}\n",
    ")"
   ]
  },
  {
   "cell_type": "code",
   "execution_count": null,
   "metadata": {},
   "outputs": [],
   "source": [
    "df = pd.concat([df_g, df_m])\n",
    "df[\"D:job_role\"] = df[\"D:job_role\"].fillna(value=\"Unknown\")"
   ]
  },
  {
   "cell_type": "code",
   "execution_count": null,
   "metadata": {},
   "outputs": [],
   "source": [
    "df[\"D:job_role\"] = df[\"D:job_role\"].replace(\n",
    "    {\"AI Engineer\": \"ML Engineer\", \"Manager (e.g. Director)\": \"Manager\"}\n",
    ")"
   ]
  },
  {
   "cell_type": "code",
   "execution_count": null,
   "metadata": {},
   "outputs": [],
   "source": [
    "# Exclude practitioners with less than 3 years of experience\n",
    "df = df[df[\"D:experience_ml\"] != \"0-2\"]"
   ]
  },
  {
   "cell_type": "code",
   "execution_count": null,
   "metadata": {},
   "outputs": [],
   "source": [
    "experience_mapper = {\"0-2\": \"1-3\", \"3-5\": \"3-6\", \"6-9\": \"6-10\"}\n",
    "df[\"D:experience_g\"] = df[\"D:experience_g\"].apply(lambda k: experience_mapper.get(k, k))\n",
    "df[\"D:experience_ml\"] = df[\"D:experience_ml\"].apply(\n",
    "    lambda k: experience_mapper.get(k, k)\n",
    ")"
   ]
  },
  {
   "attachments": {},
   "cell_type": "markdown",
   "metadata": {},
   "source": [
    "# Demographics"
   ]
  },
  {
   "attachments": {},
   "cell_type": "markdown",
   "metadata": {},
   "source": [
    "### Experience (ML + general)"
   ]
  },
  {
   "cell_type": "code",
   "execution_count": null,
   "metadata": {},
   "outputs": [],
   "source": [
    "def generate_experience_total_plot(df):\n",
    "\n",
    "    # Changing data's format for sns\n",
    "    df = df[[\"D:experience_g\", \"D:experience_ml\"]]\n",
    "    df = df.rename(\n",
    "        columns={\"D:experience_ml\": \"with ML\", \"D:experience_g\": \"in general\"}\n",
    "    )\n",
    "    df = df.melt(var_name=\"Professional experience\")\n",
    "\n",
    "    # Create the plot\n",
    "    ax = sns.countplot(\n",
    "        data=df[::-1],\n",
    "        x=\"value\",\n",
    "        hue=\"Professional experience\",\n",
    "        order=[\"1-3\", \"3-6\", \"6-10\", \"10+\"],\n",
    "        palette=sns.color_palette(\"colorblind\")[:2],\n",
    "    )\n",
    "    # ax.set_title('')\n",
    "    ax.set_xlabel(\"years of experience\")\n",
    "    ax.set_ylabel(\"# practitioners\")\n",
    "    ax.set_ylim(0, 15)\n",
    "\n",
    "    plt.savefig(out_dir / \"experience_total_questionnaire.pdf\", bbox_inches=\"tight\")\n",
    "    plt.show()\n",
    "\n",
    "\n",
    "generate_experience_total_plot(df)"
   ]
  },
  {
   "cell_type": "code",
   "execution_count": null,
   "metadata": {},
   "outputs": [],
   "source": [
    "def put_unkonwn_at_end(d):\n",
    "    tmp_k = []\n",
    "    for k in d.keys():\n",
    "        if k != \"Unknown\":\n",
    "            tmp_k.append(k)\n",
    "    tmp_k.append(\"Unknown\")\n",
    "\n",
    "    res = OrderedDict()\n",
    "    for k in tmp_k:\n",
    "        res[k] = d[k]\n",
    "    return res\n",
    "\n",
    "\n",
    "def generate_waffle_plot(df, col_name, file_name=None):\n",
    "    cnt = OrderedDict(Counter(df[col_name].dropna().tolist()).most_common())\n",
    "    cnt = put_unkonwn_at_end(cnt)\n",
    "    tot = sum(cnt.values())\n",
    "    val = [100 * (x / tot) for x in cnt.values()]\n",
    "    labels = [f'{x} ({\"{:.0f}\".format(val[i])}%)' for i, x in enumerate(cnt.keys())]\n",
    "\n",
    "    fig = plt.figure(\n",
    "        FigureClass=Waffle,\n",
    "        columns=6,\n",
    "        values=cnt,\n",
    "        labels=labels,\n",
    "        colors=sns.color_palette(\"colorblind\")[: len(cnt)],\n",
    "        legend={\n",
    "            \"loc\": \"lower center\",\n",
    "            \"bbox_to_anchor\": (0.5, -0.4),\n",
    "            \"fontsize\": 11,\n",
    "            \"ncol\": 2,\n",
    "        },\n",
    "        icons=\"user\",\n",
    "        font_size=45,\n",
    "        icon_legend=True,\n",
    "        block_arranging_style=\"snake\",\n",
    "        # figsize=(6, 6),\n",
    "    )\n",
    "\n",
    "    if file_name:\n",
    "        plt.savefig(out_dir / f\"{file_name}.pdf\", bbox_inches=\"tight\")\n",
    "\n",
    "\n",
    "def generate_job_role_waffle_plot(df):\n",
    "    generate_waffle_plot(df, \"D:job_role\", file_name=\"job_role_questionnaire\")\n",
    "\n",
    "\n",
    "generate_job_role_waffle_plot(df)"
   ]
  },
  {
   "attachments": {},
   "cell_type": "markdown",
   "metadata": {},
   "source": [
    "# Nb answer per question"
   ]
  },
  {
   "cell_type": "code",
   "execution_count": null,
   "metadata": {},
   "outputs": [],
   "source": [
    "from matplotlib.ticker import MaxNLocator\n",
    "\n",
    "\n",
    "def generate_n_question_plot(df):\n",
    "    series = df[col_rq].count(axis=\"rows\")\n",
    "\n",
    "    # Create the plot\n",
    "    ax = sns.barplot(x=series.index, y=series, color=sns.color_palette(\"colorblind\")[0])\n",
    "    ax.set_ylabel(\"# answers\")\n",
    "    ax.yaxis.set_major_locator(MaxNLocator(integer=True))\n",
    "    plt.xticks(rotation=45, ha=\"right\", rotation_mode=\"anchor\")\n",
    "\n",
    "    plt.savefig(out_dir / \"n_answers.pdf\", bbox_inches=\"tight\")\n",
    "    plt.show()\n",
    "\n",
    "\n",
    "generate_n_question_plot(df[col_rq])"
   ]
  },
  {
   "attachments": {},
   "cell_type": "markdown",
   "metadata": {},
   "source": [
    "# Average Likert score"
   ]
  },
  {
   "cell_type": "code",
   "execution_count": null,
   "metadata": {},
   "outputs": [],
   "source": [
    "def generate_average_score_plot(df):\n",
    "    series = df.mean(axis=\"rows\").sort_values(ascending=False)\n",
    "\n",
    "    # Create the plot\n",
    "    ax = sns.barplot(x=series.index, y=series, color=sns.color_palette(\"colorblind\")[0])\n",
    "    ax.set_ylabel(\"average score\")\n",
    "    # ax.yaxis.set_major_locator(MaxNLocator(integer=True))\n",
    "    ax.set_ylim([2, 4])\n",
    "    plt.xticks(rotation=45, ha=\"right\", rotation_mode=\"anchor\")\n",
    "\n",
    "    plt.savefig(out_dir / \"average_score.pdf\", bbox_inches=\"tight\")\n",
    "    plt.show()\n",
    "\n",
    "\n",
    "generate_average_score_plot(df[col_rq])"
   ]
  },
  {
   "cell_type": "code",
   "execution_count": null,
   "metadata": {},
   "outputs": [],
   "source": [
    "from collections import Counter\n",
    "\n",
    "df_c = df[col_rq].fillna(-1)\n",
    "df_c = df_c.apply(lambda x: sorted(Counter(x).items(), key=lambda x: x[0]))\n",
    "\n",
    "for x, i in zip(df_c, df_c.index):\n",
    "    print(f\"{i} : {x}\")"
   ]
  },
  {
   "attachments": {},
   "cell_type": "markdown",
   "metadata": {},
   "source": [
    "# Mode Likert Score"
   ]
  },
  {
   "cell_type": "code",
   "execution_count": null,
   "metadata": {},
   "outputs": [],
   "source": [
    "def generate_mode_score_plot(df):\n",
    "    series = (\n",
    "        df.mode(axis=\"rows\", dropna=True)\n",
    "        .fillna(0)\n",
    "        .max(axis=\"rows\")\n",
    "        .sort_values(ascending=False)\n",
    "    )\n",
    "\n",
    "    # Create the plot\n",
    "    ax = sns.barplot(x=series.index, y=series, color=sns.color_palette(\"colorblind\")[0])\n",
    "    ax.set_ylabel(\"most common score\")\n",
    "    # ax.yaxis.set_major_locator(MaxNLocator(integer=True))\n",
    "    ax.set_yticks([0, 1, 2, 3, 4, 5])\n",
    "    plt.xticks(rotation=45, ha=\"right\", rotation_mode=\"anchor\")\n",
    "\n",
    "    plt.savefig(out_dir / \"mode_score.pdf\", bbox_inches=\"tight\")\n",
    "    plt.show()\n",
    "\n",
    "\n",
    "generate_mode_score_plot(df[col_rq])"
   ]
  },
  {
   "attachments": {},
   "cell_type": "markdown",
   "metadata": {},
   "source": [
    "# Median Likert Score"
   ]
  },
  {
   "cell_type": "code",
   "execution_count": null,
   "metadata": {},
   "outputs": [],
   "source": [
    "def generate_median_score_plot(df):\n",
    "    series = df.median(axis=\"rows\").sort_values(ascending=False)\n",
    "\n",
    "    # Create the plot\n",
    "    ax = sns.barplot(x=series.index, y=series, color=sns.color_palette(\"colorblind\")[0])\n",
    "    ax.set_ylabel(\"median score\")\n",
    "    # ax.yaxis.set_major_locator(MaxNLocator(integer=True))\n",
    "    ax.set_yticks([0, 1, 2, 3, 4, 5])\n",
    "    plt.xticks(rotation=45, ha=\"right\", rotation_mode=\"anchor\")\n",
    "\n",
    "    plt.savefig(out_dir / \"mode_score.pdf\", bbox_inches=\"tight\")\n",
    "    plt.show()\n",
    "\n",
    "\n",
    "generate_median_score_plot(df[col_rq])"
   ]
  },
  {
   "attachments": {},
   "cell_type": "markdown",
   "metadata": {},
   "source": [
    "# 4-5 Likert score"
   ]
  },
  {
   "cell_type": "code",
   "execution_count": null,
   "metadata": {},
   "outputs": [],
   "source": [
    "def generate_4_5_score_plot(df):\n",
    "    def count_n_4_5_scores(series):\n",
    "        vc = series.value_counts(dropna=True, normalize=True)\n",
    "        per = 0\n",
    "        if 4 in vc:\n",
    "            per += vc[4]\n",
    "        if 5 in vc:\n",
    "            per += vc[5]\n",
    "        return per\n",
    "\n",
    "    series = df[col_rq].apply(count_n_4_5_scores).sort_values(ascending=False)\n",
    "\n",
    "    # Create the plot\n",
    "    ax = sns.barplot(x=series.index, y=series, color=sns.color_palette(\"colorblind\")[0])\n",
    "    ax.set_ylabel(\"percentage of ratings\")\n",
    "    # ax.yaxis.set_major_locator(MaxNLocator(integer=True))\n",
    "    plt.xticks(rotation=45, ha=\"right\", rotation_mode=\"anchor\")\n",
    "\n",
    "    plt.savefig(out_dir / \"percentage_frequent.pdf\", bbox_inches=\"tight\")\n",
    "    # plt.show()\n",
    "\n",
    "\n",
    "generate_4_5_score_plot(df[col_rq])"
   ]
  },
  {
   "cell_type": "code",
   "execution_count": null,
   "metadata": {},
   "outputs": [],
   "source": []
  }
 ],
 "metadata": {
  "kernelspec": {
   "display_name": "base",
   "language": "python",
   "name": "python3"
  },
  "language_info": {
   "codemirror_mode": {
    "name": "ipython",
    "version": 3
   },
   "file_extension": ".py",
   "mimetype": "text/x-python",
   "name": "python",
   "nbconvert_exporter": "python",
   "pygments_lexer": "ipython3",
   "version": "3.9.13"
  },
  "orig_nbformat": 4
 },
 "nbformat": 4,
 "nbformat_minor": 2
}

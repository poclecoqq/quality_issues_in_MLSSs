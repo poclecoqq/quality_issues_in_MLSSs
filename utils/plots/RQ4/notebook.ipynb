{
 "cells": [
  {
   "cell_type": "code",
   "execution_count": null,
   "metadata": {},
   "outputs": [],
   "source": [
    "import yaml \n",
    "import seaborn as sns\n",
    "import matplotlib.pyplot as plt\n",
    "import pathlib\n",
    "from collections import OrderedDict\n",
    "import pandas as pd"
   ]
  },
  {
   "cell_type": "code",
   "execution_count": null,
   "metadata": {},
   "outputs": [],
   "source": [
    "# Initialize directories\n",
    "in_dir = pathlib.Path('./in/')\n",
    "out_dir = pathlib.Path('./out/')\n",
    "out_dir.mkdir(parents=True, exist_ok=True)\n",
    "\n",
    "# Set seaborn style\n",
    "sns.set(style=\"whitegrid\")"
   ]
  },
  {
   "cell_type": "code",
   "execution_count": null,
   "metadata": {},
   "outputs": [],
   "source": [
    "with open(\"data.yaml\", \"r\") as f:\n",
    "    data = yaml.safe_load(f)"
   ]
  },
  {
   "cell_type": "code",
   "execution_count": null,
   "metadata": {},
   "outputs": [],
   "source": [
    "def sort_dic_by_key(data: dict):\n",
    "    \"\"\"\n",
    "    Sort a dictionnary in decreasing order by value.\n",
    "    \"\"\"\n",
    "    return OrderedDict(sorted(data.items(), key=lambda x: -x[1]))"
   ]
  },
  {
   "cell_type": "code",
   "execution_count": null,
   "metadata": {},
   "outputs": [],
   "source": [
    "def plot_quality_dimensions(d, file_name, rotation=45):\n",
    "    d = sort_dic_by_key(d)\n",
    "    ax = sns.barplot(x=list(d.keys()), y=list(d.values()), color=sns.color_palette('colorblind')[0])\n",
    "    ax.set_ylabel('# practitioners')\n",
    "\n",
    "    # ax.set_axisbelow(True)\n",
    "    # ax.grid(axis='y')\n",
    "\n",
    "    plt.xticks(rotation=rotation, ha='right')\n",
    "    if file_name:\n",
    "        plt.savefig(out_dir/f'{file_name}.pdf', bbox_inches='tight')\n",
    "\n",
    "plot_quality_dimensions(data['quality-aspects'], file_name='quality_aspects')"
   ]
  },
  {
   "cell_type": "code",
   "execution_count": null,
   "metadata": {},
   "outputs": [],
   "source": [
    "def plot_quality_dimensions_v2(data, file_name=\"quality_dimensions_v2\", rotation=45):\n",
    "    df_qa = pd.DataFrame.from_dict({'name': data['quality-aspects'].keys(), 'count': data['quality-aspects'].values(), 'source': 'DDS'})\n",
    "    df_qd = pd.DataFrame.from_dict({'name': data['quality-dimensions'].keys(), 'count': data['quality-dimensions'].values(), 'source': 'DAMA'})\n",
    "    df = pd.concat([df_qa, df_qd])\n",
    "    df = df.sort_values(by='count', ascending=False)\n",
    "    ax = sns.barplot(data=df, x='name', y='count', hue='source', palette='colorblind', dodge=False)\n",
    "    ax.set_ylabel('# practitioners')\n",
    "    ax.set(xlabel=None)\n",
    "\n",
    "    # ax.set_axisbelow(True)\n",
    "    # ax.grid(axis='y')\n",
    "\n",
    "    plt.xticks(rotation=rotation, ha='right', rotation_mode='anchor')\n",
    "    if file_name:\n",
    "        plt.savefig(out_dir/f'{file_name}.pdf', bbox_inches='tight')\n",
    "\n",
    "plot_quality_dimensions_v2(data)"
   ]
  },
  {
   "cell_type": "code",
   "execution_count": null,
   "metadata": {},
   "outputs": [],
   "source": []
  }
 ],
 "metadata": {
  "kernelspec": {
   "display_name": "base",
   "language": "python",
   "name": "python3"
  },
  "language_info": {
   "codemirror_mode": {
    "name": "ipython",
    "version": 3
   },
   "file_extension": ".py",
   "mimetype": "text/x-python",
   "name": "python",
   "nbconvert_exporter": "python",
   "pygments_lexer": "ipython3",
   "version": "3.9.13"
  },
  "orig_nbformat": 4
 },
 "nbformat": 4,
 "nbformat_minor": 2
}

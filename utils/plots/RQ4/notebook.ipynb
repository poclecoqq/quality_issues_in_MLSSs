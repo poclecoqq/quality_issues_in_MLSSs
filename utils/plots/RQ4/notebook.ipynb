{
 "cells": [
  {
   "cell_type": "code",
   "execution_count": null,
   "metadata": {},
   "outputs": [],
   "source": [
    "import yaml \n",
    "import seaborn as sns\n",
    "import matplotlib.pyplot as plt\n",
    "import pathlib\n",
    "from collections import OrderedDict"
   ]
  },
  {
   "cell_type": "code",
   "execution_count": null,
   "metadata": {},
   "outputs": [],
   "source": [
    "# Initialize directories\n",
    "in_dir = pathlib.Path('./in/')\n",
    "out_dir = pathlib.Path('./out/')\n",
    "out_dir.mkdir(parents=True, exist_ok=True)\n",
    "\n",
    "# Set seaborn style\n",
    "sns.set(style=\"whitegrid\")"
   ]
  },
  {
   "cell_type": "code",
   "execution_count": null,
   "metadata": {},
   "outputs": [],
   "source": [
    "with open(\"data.yaml\", \"r\") as f:\n",
    "    data = yaml.safe_load(f)"
   ]
  },
  {
   "cell_type": "code",
   "execution_count": null,
   "metadata": {},
   "outputs": [],
   "source": [
    "data"
   ]
  },
  {
   "cell_type": "code",
   "execution_count": null,
   "metadata": {},
   "outputs": [],
   "source": [
    "def sort_dic_by_key(data: dict):\n",
    "    \"\"\"\n",
    "    Sort a dictionnary in decreasing order by value.\n",
    "    \"\"\"\n",
    "    return OrderedDict(sorted(data.items(), key=lambda x: -x[1]))"
   ]
  },
  {
   "cell_type": "code",
   "execution_count": null,
   "metadata": {},
   "outputs": [],
   "source": [
    "def plot_quality_dimensions(d, file_name='quality_dimensions'):\n",
    "    d = sort_dic_by_key(d)\n",
    "    ax = sns.barplot(x=list(d.keys()), y=list(d.values()), color=sns.color_palette('colorblind')[0])\n",
    "    ax.set_ylabel('# practitioners')\n",
    "\n",
    "    # ax.set_axisbelow(True)\n",
    "    # ax.grid(axis='y')\n",
    "\n",
    "    plt.xticks(rotation=45, ha='right')\n",
    "    if file_name:\n",
    "        plt.savefig(out_dir/f'{file_name}.pdf', bbox_inches='tight')\n",
    "\n",
    "plot_quality_dimensions(data['quality-dimensions'])"
   ]
  },
  {
   "cell_type": "code",
   "execution_count": null,
   "metadata": {},
   "outputs": [],
   "source": []
  }
 ],
 "metadata": {
  "kernelspec": {
   "display_name": "base",
   "language": "python",
   "name": "python3"
  },
  "language_info": {
   "codemirror_mode": {
    "name": "ipython",
    "version": 3
   },
   "file_extension": ".py",
   "mimetype": "text/x-python",
   "name": "python",
   "nbconvert_exporter": "python",
   "pygments_lexer": "ipython3",
   "version": "3.9.13"
  },
  "orig_nbformat": 4
 },
 "nbformat": 4,
 "nbformat_minor": 2
}

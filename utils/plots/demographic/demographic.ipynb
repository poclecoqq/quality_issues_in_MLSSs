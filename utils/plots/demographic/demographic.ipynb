{
 "cells": [
  {
   "cell_type": "code",
   "execution_count": null,
   "metadata": {},
   "outputs": [],
   "source": [
    "import pandas as pd\n",
    "import seaborn as sns\n",
    "import matplotlib.pyplot as plt\n",
    "from collections import Counter, OrderedDict\n",
    "from pywaffle import Waffle\n",
    "import pathlib"
   ]
  },
  {
   "cell_type": "code",
   "execution_count": null,
   "metadata": {},
   "outputs": [],
   "source": [
    "# Read and filter out irrelevant entries\n",
    "df = pd.read_csv(\"./input/input.csv\")\n",
    "df = df[(df[\"State\"] == \"Interviewed\")]\n",
    "\n",
    "# Replace Nan with Uknown\n",
    "df = df.fillna(\"Unknown\")\n",
    "\n",
    "# Create output directory if does not exists\n",
    "out_dir = pathlib.Path(\"./output\")\n",
    "out_dir.mkdir(parents=True, exist_ok=True)\n",
    "\n",
    "# set seaborn style\n",
    "sns.set(style=\"whitegrid\")"
   ]
  },
  {
   "cell_type": "code",
   "execution_count": null,
   "metadata": {},
   "outputs": [],
   "source": [
    "experience_mapper = {\"0-2\": \"1-3\", \"3-5\": \"3-6\", \"6-9\": \"6-10\"}\n",
    "df[\"Experience (general)\"] = df[\"Experience (general)\"].apply(\n",
    "    lambda k: experience_mapper.get(k, k)\n",
    ")\n",
    "df[\"Experience (ML)\"] = df[\"Experience (ML)\"].apply(\n",
    "    lambda k: experience_mapper.get(k, k)\n",
    ")"
   ]
  },
  {
   "attachments": {},
   "cell_type": "markdown",
   "metadata": {},
   "source": [
    "## Histograms"
   ]
  },
  {
   "attachments": {},
   "cell_type": "markdown",
   "metadata": {},
   "source": [
    "### Company size"
   ]
  },
  {
   "cell_type": "code",
   "execution_count": null,
   "metadata": {},
   "outputs": [],
   "source": [
    "def generate_company_size_plot(df):\n",
    "    # Uniformizing values\n",
    "    df.loc[df[\"Company size\"] == \"51-100\", \"Company size\"] = \"51-500\"\n",
    "    df.loc[df[\"Company size\"] == \"100-500\", \"Company size\"] = \"51-500\"\n",
    "    df.loc[df[\"Company size\"] == \"5000-10000\", \"Company size\"] = \"500-10000\"\n",
    "    # Sorting bins\n",
    "    df[\"Company size\"] = pd.Categorical(\n",
    "        df[\"Company size\"], [\"1-10\", \"11-50\", \"51-500\", \"500-10000\", \"10001+\"]\n",
    "    )\n",
    "\n",
    "    # Create the plot\n",
    "    ax = sns.countplot(\n",
    "        data=df, x=\"Company size\", color=sns.color_palette(\"colorblind\")[0]\n",
    "    )\n",
    "    # ax.set_title('')\n",
    "    ax.set_ylabel(\"# interviewees\")\n",
    "    ax.set_xlabel(\"number of employees\")\n",
    "\n",
    "    plt.savefig(out_dir / \"company_size.pdf\", bbox_inches=\"tight\")\n",
    "    plt.show()\n",
    "\n",
    "\n",
    "generate_company_size_plot(df)"
   ]
  },
  {
   "attachments": {},
   "cell_type": "markdown",
   "metadata": {},
   "source": [
    "### Experience (general)"
   ]
  },
  {
   "cell_type": "code",
   "execution_count": null,
   "metadata": {},
   "outputs": [],
   "source": [
    "def generate_experience_g_plot(df):\n",
    "    # Sorting bins\n",
    "    df[\"Experience (general)\"] = pd.Categorical(\n",
    "        df[\"Experience (general)\"], [\"1-3\", \"3-6\", \"6-10\", \"10+\"]\n",
    "    )\n",
    "\n",
    "    # Create the plot\n",
    "    ax = sns.countplot(\n",
    "        data=df, x=\"Experience (general)\", color=sns.color_palette(\"colorblind\")[0]\n",
    "    )\n",
    "    # ax.set_title('')\n",
    "    ax.set_ylabel(\"# interviewees\")\n",
    "    ax.set_ylim(0, 12)\n",
    "\n",
    "    plt.savefig(out_dir / \"experience_general.pdf\", bbox_inches=\"tight\")\n",
    "    plt.show()\n",
    "\n",
    "\n",
    "generate_experience_g_plot(df)"
   ]
  },
  {
   "attachments": {},
   "cell_type": "markdown",
   "metadata": {},
   "source": [
    "### Experience (ML)"
   ]
  },
  {
   "cell_type": "code",
   "execution_count": null,
   "metadata": {},
   "outputs": [],
   "source": [
    "def generate_experience_ml_plot(df):\n",
    "    # Sorting bins\n",
    "    df[\"Experience (ML)\"] = pd.Categorical(\n",
    "        df[\"Experience (ML)\"], [\"1-3\", \"3-6\", \"6-10\", \"10+\"]\n",
    "    )\n",
    "\n",
    "    # Create the plot\n",
    "    ax = sns.countplot(\n",
    "        data=df, x=\"Experience (ML)\", color=sns.color_palette(\"colorblind\")[0]\n",
    "    )\n",
    "    # ax.set_title('')\n",
    "    ax.set_ylabel(\"# interviewees\")\n",
    "    ax.set_ylim(0, 15)\n",
    "\n",
    "    plt.savefig(out_dir / \"experience_ml.pdf\", bbox_inches=\"tight\")\n",
    "    plt.show()\n",
    "\n",
    "\n",
    "generate_experience_ml_plot(df)"
   ]
  },
  {
   "attachments": {},
   "cell_type": "markdown",
   "metadata": {},
   "source": [
    "### Experience (ML + general)"
   ]
  },
  {
   "cell_type": "code",
   "execution_count": null,
   "metadata": {},
   "outputs": [],
   "source": [
    "def generate_experience_total_plot(df):\n",
    "\n",
    "    # Changing data's format for sns\n",
    "    df = df[[\"Experience (ML)\", \"Experience (general)\"]]\n",
    "    df = df.rename(\n",
    "        columns={\"Experience (ML)\": \"with ML\", \"Experience (general)\": \"in general\"}\n",
    "    )\n",
    "    df = df.melt(var_name=\"Professional experience\")\n",
    "\n",
    "    # Create the plot\n",
    "    ax = sns.countplot(\n",
    "        data=df,\n",
    "        x=\"value\",\n",
    "        hue=\"Professional experience\",\n",
    "        order=[\"1-3\", \"3-6\", \"6-10\", \"10+\"],\n",
    "        palette=sns.color_palette(\"colorblind\")[:2],\n",
    "    )\n",
    "    # ax.set_title('')\n",
    "    ax.set_xlabel(\"years of experience\")\n",
    "    ax.set_ylabel(\"# interviewees\")\n",
    "    ax.set_ylim(0, 15)\n",
    "\n",
    "    plt.savefig(out_dir / \"experience_total.pdf\", bbox_inches=\"tight\")\n",
    "    plt.show()\n",
    "\n",
    "\n",
    "generate_experience_total_plot(df)"
   ]
  },
  {
   "attachments": {},
   "cell_type": "markdown",
   "metadata": {},
   "source": [
    "## Pie charts"
   ]
  },
  {
   "cell_type": "code",
   "execution_count": null,
   "metadata": {},
   "outputs": [],
   "source": [
    "def put_unkonwn_at_end(d):\n",
    "    tmp_k = []\n",
    "    for k in d.keys():\n",
    "        if k != \"Unknown\":\n",
    "            tmp_k.append(k)\n",
    "    if \"Unknown\" in d.keys():\n",
    "        tmp_k.append(\"Unknown\")\n",
    "\n",
    "    res = OrderedDict()\n",
    "    for k in tmp_k:\n",
    "        res[k] = d[k]\n",
    "    return res\n",
    "\n",
    "\n",
    "def generate_waffle_plot(df, col_name, file_name=None):\n",
    "    cnt = OrderedDict(Counter(df[col_name].dropna().tolist()).most_common())\n",
    "    cnt = put_unkonwn_at_end(cnt)\n",
    "    tot = sum(cnt.values())\n",
    "    val = [100 * (x / tot) for x in cnt.values()]\n",
    "    labels = [f'{x} ({\"{:.0f}\".format(val[i])}%)' for i, x in enumerate(cnt.keys())]\n",
    "\n",
    "    fig = plt.figure(\n",
    "        FigureClass=Waffle,\n",
    "        columns=7,\n",
    "        values=cnt,\n",
    "        labels=labels,\n",
    "        colors=sns.color_palette(\"colorblind\")[: len(cnt)],\n",
    "        legend={\n",
    "            \"loc\": \"lower center\",\n",
    "            \"bbox_to_anchor\": (0.44, -0.3),\n",
    "            \"fontsize\": 11,\n",
    "            \"ncol\": 2,\n",
    "        },\n",
    "        icons=\"user\",\n",
    "        font_size=30,\n",
    "        icon_legend=True,\n",
    "        block_arranging_style=\"snake\",\n",
    "        # figsize=(6, 6),\n",
    "    )\n",
    "\n",
    "    if file_name:\n",
    "        plt.savefig(out_dir / f\"{file_name}.pdf\", bbox_inches=\"tight\")"
   ]
  },
  {
   "attachments": {},
   "cell_type": "markdown",
   "metadata": {},
   "source": [
    "### Sector"
   ]
  },
  {
   "cell_type": "code",
   "execution_count": null,
   "metadata": {},
   "outputs": [],
   "source": [
    "def generate_sector_pie_plot(df):\n",
    "    cnt = OrderedDict(Counter(df[\"Sector\"].dropna().tolist()).most_common())\n",
    "    keys, values = list(cnt.keys()), list(cnt.values())\n",
    "    fig1, ax1 = plt.subplots()\n",
    "    plt.pie(\n",
    "        values,\n",
    "        labels=keys,\n",
    "        colors=sns.color_palette(),\n",
    "        explode=[0.05 for _ in range(len(values))],\n",
    "        autopct=\"%1.1f%%\",\n",
    "        startangle=90,\n",
    "        pctdistance=0.85,\n",
    "    )\n",
    "    # draw circle\n",
    "    centre_circle = plt.Circle((0, 0), 0.70, fc=\"white\")\n",
    "    fig = plt.gcf()\n",
    "    fig.gca().add_artist(centre_circle)\n",
    "    # Equal aspect ratio ensures that pie is drawn as a circle\n",
    "    ax1.axis(\"equal\")\n",
    "    plt.tight_layout()\n",
    "    plt.show()\n",
    "\n",
    "\n",
    "generate_sector_pie_plot(df)"
   ]
  },
  {
   "cell_type": "code",
   "execution_count": null,
   "metadata": {},
   "outputs": [],
   "source": [
    "def generate_sector_waffle_plot(df):\n",
    "    generate_waffle_plot(df, \"Sector\", file_name=\"sector_waffle\")\n",
    "\n",
    "\n",
    "generate_sector_waffle_plot(df)"
   ]
  },
  {
   "attachments": {},
   "cell_type": "markdown",
   "metadata": {},
   "source": [
    "### Where"
   ]
  },
  {
   "cell_type": "code",
   "execution_count": null,
   "metadata": {},
   "outputs": [],
   "source": [
    "def generate_world_region_waffle_plot(df):\n",
    "    generate_waffle_plot(df, \"Where\", file_name=\"world_region\")\n",
    "\n",
    "\n",
    "generate_world_region_waffle_plot(df)"
   ]
  },
  {
   "attachments": {},
   "cell_type": "markdown",
   "metadata": {},
   "source": [
    "### Job role"
   ]
  },
  {
   "cell_type": "code",
   "execution_count": null,
   "metadata": {},
   "outputs": [],
   "source": [
    "def generate_role_waffle_plot(df):\n",
    "    generate_waffle_plot(df, \"Job title\", file_name=\"job_role\")\n",
    "\n",
    "\n",
    "generate_role_waffle_plot(df)"
   ]
  },
  {
   "cell_type": "code",
   "execution_count": null,
   "metadata": {},
   "outputs": [],
   "source": []
  }
 ],
 "metadata": {
  "kernelspec": {
   "display_name": "base",
   "language": "python",
   "name": "python3"
  },
  "language_info": {
   "codemirror_mode": {
    "name": "ipython",
    "version": 3
   },
   "file_extension": ".py",
   "mimetype": "text/x-python",
   "name": "python",
   "nbconvert_exporter": "python",
   "pygments_lexer": "ipython3",
   "version": "3.9.13"
  },
  "orig_nbformat": 4
 },
 "nbformat": 4,
 "nbformat_minor": 2
}
